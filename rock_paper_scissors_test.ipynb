{
 "cells": [
  {
   "cell_type": "code",
   "execution_count": null,
   "metadata": {
    "tags": []
   },
   "outputs": [],
   "source": [
    "import torch\n",
    "import torchvision.models as models\n",
    "import torchvision.transforms as transforms\n",
    "from PIL import Image\n",
    "import torch.nn as nn\n",
    "import torch.optim as optim\n",
    "import os\n",
    "import matplotlib.pyplot as plt\n",
    "import numpy as np"
   ]
  },
  {
   "cell_type": "code",
   "execution_count": null,
   "metadata": {
    "tags": []
   },
   "outputs": [],
   "source": [
    "# Define transformations for data preprocessing\n",
    "transform = transforms.Compose([\n",
    "    transforms.Resize((224, 224)),\n",
    "    transforms.ToTensor(),\n",
    "    transforms.Normalize(\n",
    "        mean=[0.485, 0.456, 0.406],\n",
    "        std=[0.229, 0.224, 0.225]\n",
    "    ),\n",
    "])"
   ]
  },
  {
   "cell_type": "code",
   "execution_count": null,
   "metadata": {
    "tags": []
   },
   "outputs": [],
   "source": [
    "# Load your saved model architecture\n",
    "model = models.resnet18(pretrained=False)\n",
    "num_classes = 4  # Define the number of classes\n",
    "model.fc = nn.Linear(model.fc.in_features, num_classes)"
   ]
  },
  {
   "cell_type": "code",
   "execution_count": null,
   "metadata": {
    "tags": []
   },
   "outputs": [],
   "source": [
    "# Load the saved model checkpoint\n",
    "model.load_state_dict(torch.load('model_checkpoint.pth'))\n",
    "model.eval()  # Set the model to evaluation mode"
   ]
  },
  {
   "cell_type": "code",
   "execution_count": null,
   "metadata": {
    "tags": []
   },
   "outputs": [],
   "source": [
    "# Define the root folder of your test data\n",
    "test_data_root = ''"
   ]
  },
  {
   "cell_type": "code",
   "execution_count": null,
   "metadata": {
    "tags": []
   },
   "outputs": [],
   "source": [
    "# Get the list of class names\n",
    "class_names = sorted(os.listdir(test_data_root))\n",
    "print(class_names)"
   ]
  },
  {
   "cell_type": "code",
   "execution_count": null,
   "metadata": {
    "tags": []
   },
   "outputs": [],
   "source": [
    "# Define the imshow function to visualize images\n",
    "def imshow(image):\n",
    "    image = image.numpy().transpose((1, 2, 0))\n",
    "    mean = [0.485, 0.456, 0.406]\n",
    "    std = [0.229, 0.224, 0.225]\n",
    "    image = std * image + mean\n",
    "    image = np.clip(image, 0, 1)\n",
    "    plt.imshow(image)\n",
    "    plt.axis('off')"
   ]
  },
  {
   "cell_type": "code",
   "execution_count": null,
   "metadata": {
    "tags": []
   },
   "outputs": [],
   "source": [
    "# Process test images\n",
    "for class_name in class_names:\n",
    "    class_folder = os.path.join(test_data_root, class_name)\n",
    "    for test_image_name in os.listdir(class_folder):\n",
    "        test_image_path = os.path.join(class_folder, test_image_name)\n",
    "        \n",
    "        # Load and preprocess the test image\n",
    "        test_image = Image.open(test_image_path)\n",
    "        test_image = transform(test_image).unsqueeze(0)  # Add batch dimension\n",
    "        \n",
    "        # Perform inference\n",
    "        with torch.no_grad():\n",
    "            outputs = model(test_image)\n",
    "        \n",
    "        # Process the outputs (e.g., get predicted class)\n",
    "        _, predicted_class = torch.max(outputs, 1)\n",
    "        predicted_label = class_names[predicted_class.item()]  # Use the predicted class name\n",
    "        \n",
    "        # Display the test image along with labels\n",
    "        plt.figure()\n",
    "        plt.title(f'Actual: {class_name}, Predicted: {predicted_label}')\n",
    "        imshow(test_image.squeeze())  # Remove the batch dimension\n",
    "        plt.show()"
   ]
  }
 ],
 "metadata": {
  "kernelspec": {
   "display_name": "Py310",
   "language": "python",
   "name": "py310"
  },
  "language_info": {
   "codemirror_mode": {
    "name": "ipython",
    "version": 3
   },
   "file_extension": ".py",
   "mimetype": "text/x-python",
   "name": "python",
   "nbconvert_exporter": "python",
   "pygments_lexer": "ipython3",
   "version": "3.10.12"
  }
 },
 "nbformat": 4,
 "nbformat_minor": 4
}
