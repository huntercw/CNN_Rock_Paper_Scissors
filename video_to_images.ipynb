{
 "cells": [
  {
   "cell_type": "code",
   "execution_count": null,
   "metadata": {
    "tags": []
   },
   "outputs": [],
   "source": [
    "import cv2\n",
    "import os\n",
    "\n",
    "def video_to_images(video_path, output_folder):\n",
    "    # Create the output folder if it doesn't exist\n",
    "    if not os.path.exists(output_folder):\n",
    "        os.makedirs(output_folder)\n",
    "    \n",
    "    # Open the video file\n",
    "    cap = cv2.VideoCapture(video_path)\n",
    "    \n",
    "    # Loop through frames and save cropped images\n",
    "    frame_count = 0\n",
    "    while cap.isOpened():\n",
    "        ret, frame = cap.read()\n",
    "        if not ret:\n",
    "            break\n",
    "        \n",
    "        # Convert frame to grayscale\n",
    "        gray_frame = cv2.cvtColor(frame, cv2.COLOR_BGR2GRAY)\n",
    "        \n",
    "        # Find non-black region in the frame\n",
    "        non_black_pixels = cv2.findNonZero(gray_frame)\n",
    "        \n",
    "        if non_black_pixels is None:\n",
    "            continue  # Skip frames with no content\n",
    "        \n",
    "        # Compute bounding rectangle for non-black region\n",
    "        x, y, w, h = cv2.boundingRect(non_black_pixels)\n",
    "        \n",
    "        # Crop the frame to non-black region\n",
    "        cropped_frame = frame[y:y+h, x:x+w]\n",
    "        \n",
    "        # Save the cropped frame as an image\n",
    "        frame_filename = os.path.join(output_folder, f\"frame_{frame_count:04d}.jpg\")\n",
    "        cv2.imwrite(frame_filename, cropped_frame)\n",
    "        \n",
    "        frame_count += 1\n",
    "    \n",
    "    # Release the video capture\n",
    "    cap.release()\n",
    "\n",
    "\n",
    "if __name__ == \"__main__\":\n",
    "    input_video_path = '' # video input path\n",
    "    output_folder = '' # output path where you want to save all the images / frames created from the video splicing\n",
    "    \n",
    "    video_to_images(input_video_path, output_folder)\n",
    "    print(\"Video frames have been saved as images.\")\n"
   ]
  }
 ],
 "metadata": {
  "kernelspec": {
   "display_name": "Py310",
   "language": "python",
   "name": "py310"
  },
  "language_info": {
   "codemirror_mode": {
    "name": "ipython",
    "version": 3
   },
   "file_extension": ".py",
   "mimetype": "text/x-python",
   "name": "python",
   "nbconvert_exporter": "python",
   "pygments_lexer": "ipython3",
   "version": "3.10.12"
  }
 },
 "nbformat": 4,
 "nbformat_minor": 4
}
